{
  "nbformat": 4,
  "nbformat_minor": 0,
  "metadata": {
    "colab": {
      "provenance": [],
      "authorship_tag": "ABX9TyORUprqM+AvaCNF3mGiXGhE",
      "include_colab_link": true
    },
    "kernelspec": {
      "name": "python3",
      "display_name": "Python 3"
    },
    "language_info": {
      "name": "python"
    }
  },
  "cells": [
    {
      "cell_type": "markdown",
      "metadata": {
        "id": "view-in-github",
        "colab_type": "text"
      },
      "source": [
        "<a href=\"https://colab.research.google.com/github/Kabi-45/100-days-of-code/blob/main/LogisticRegression.ipynb\" target=\"_parent\"><img src=\"https://colab.research.google.com/assets/colab-badge.svg\" alt=\"Open In Colab\"/></a>"
      ]
    },
    {
      "cell_type": "code",
      "source": [
        "# @title Logistic Regression using Perceptron (Step function)\n",
        "\n",
        "import numpy as np\n",
        "\n",
        "class LogisticRegressionStep:\n",
        "  def __init__(self, max_iters = 1000, learning_rate = 0.1):\n",
        "    self.weights = None\n",
        "    self.max_iters = max_iters\n",
        "    self.learning_rate = learning_rate\n",
        "\n",
        "  def step(self,z):\n",
        "    return np.where(z>0, 1, 0)\n",
        "    return 1 if z>0 else 0\n",
        "\n",
        "  def fit(self, X, y):\n",
        "\n",
        "    X = np.insert(X,0,1, axis = 1)\n",
        "    n_samples, n_features = X.shape\n",
        "    self.weights = np.ones(n_features)\n",
        "    for i in range(self.max_iters):\n",
        "      for j in range(n_features):\n",
        "        z = np.dot(X[j], self.weights)\n",
        "        y_pred = self.step(z)\n",
        "        error = y[j] - y_pred\n",
        "        self.weights += self.learning_rate * error * X[j]  # θ = θ + α * (y - h) * X\n",
        "\n",
        "  def predict(self, X):\n",
        "    X = np.insert(X, 0, 1, axis = 1)\n",
        "    return np.round(self.step(X @ self.weights))\n",
        "\n",
        "X = np.array([[1, 2], [2, 3], [3, 4], [5, 6]])  # Features\n",
        "y = np.array([0, 0, 1, 1])  # Labels\n",
        "\n",
        "# Fit the Model\n",
        "model = LogisticRegressionStep(learning_rate=0.1, max_iters=1000)\n",
        "model.fit(X,y)\n",
        "# Predictions\n",
        "predictions = model.predict(X)\n",
        "print(\"Final Predictions:\", predictions)\n"
      ],
      "metadata": {
        "colab": {
          "base_uri": "https://localhost:8080/"
        },
        "id": "uL3Lkvq_l-rH",
        "outputId": "0d04a3e4-21c4-40d8-8097-f1f1f204229a"
      },
      "execution_count": 28,
      "outputs": [
        {
          "output_type": "stream",
          "name": "stdout",
          "text": [
            "Final Predictions: [0 0 1 1]\n"
          ]
        }
      ]
    },
    {
      "cell_type": "code",
      "source": [
        "# @title Logistic Regression using Perceptron trick (Sigmoid)\n",
        "\n",
        "import numpy as np\n",
        "\n",
        "class LogisticRegressionPT:\n",
        "  def __init__(self, max_iter = 1000, learning_rate = 0.1):\n",
        "    self.weights = None\n",
        "    self.max_iter = max_iter\n",
        "    self.learning_rate = learning_rate\n",
        "\n",
        "  def sigmoid(self, z):\n",
        "    return 1 / (1 + np.exp(-z))\n",
        "\n",
        "  def fit(self, X, y):\n",
        "    X = np.insert(X,0,1,axis=1)\n",
        "    n_samples, n_features = X.shape\n",
        "    self.weights = np.ones(n_features)\n",
        "    for i in range(self.max_iter):\n",
        "      for j in range(X.shape[1]):\n",
        "        y_pred = self.sigmoid(np.dot(X[j], self.weights))\n",
        "        error = y[j] - y_pred\n",
        "        self.weights += self.learning_rate * error * X[j]  # θ = θ + α * (y - h) * X\n",
        "\n",
        "  def predict(self, X):\n",
        "    X = np.insert(X,0,1,axis=1)\n",
        "    return np.round(self.sigmoid(X @ self.weights))\n",
        "\n",
        "\n",
        "X = np.array([[1, 2], [2, 3], [3, 4], [5, 6]])  # Features\n",
        "y = np.array([0, 0, 1, 1])  # Labels\n",
        "\n",
        "# Fit the Model\n",
        "sig = LogisticRegressionPT(learning_rate=0.1, max_iter=1000)\n",
        "sig.fit(X,y)\n",
        "# Predictions\n",
        "predictions = sig.predict(X)\n",
        "print(\"Final Predictions:\", predictions)"
      ],
      "metadata": {
        "colab": {
          "base_uri": "https://localhost:8080/"
        },
        "id": "2HhaoRMS6tNN",
        "outputId": "0351c620-a70a-48d5-90db-8a98adee1062"
      },
      "execution_count": 13,
      "outputs": [
        {
          "output_type": "stream",
          "name": "stdout",
          "text": [
            "Final Predictions: [0. 0. 1. 1.]\n"
          ]
        }
      ]
    },
    {
      "cell_type": "code",
      "source": [
        "# @title Logistic Regression using Gradient Descent\n",
        "\n",
        "import numpy as np\n",
        "\n",
        "class LogisticRegressionGD:\n",
        "  def __init__(self, max_iters = 1000, learning_rate = 0.1):\n",
        "    self.weights = None\n",
        "    self.max_iters = max_iters\n",
        "    self.learning_rate = learning_rate\n",
        "\n",
        "  def sigmoid(self, z):\n",
        "    return 1 / (1 + np.exp(-z))\n",
        "\n",
        "  def fit(self, X, y):\n",
        "    X = np.insert(X, 0, 1, axis=1)\n",
        "    n_samples, n_features = X.shape\n",
        "    self.weights = np.ones(n_features)\n",
        "    for i in range(self.max_iters):\n",
        "      # y_pred = sigmoid(np.dot(X, theta))\n",
        "      y_pred = self.sigmoid(np.dot(X, self.weights))\n",
        "      gradient = (1/n_features) * np.dot(X.T, (y_pred - y))  # ∇J(θ)\n",
        "      self.weights -= self.learning_rate * gradient\n",
        "\n",
        "  def predict(self, X):\n",
        "    X = np.insert(X, 0, 1, axis=1)\n",
        "    return np.round(self.sigmoid(X @ self.weights))\n",
        "\n",
        "X = np.array([[1, 2], [2, 3], [3, 4], [5, 6]])  # Features\n",
        "y = np.array([0, 0, 1, 1])  # Labels\n",
        "\n",
        "# Fit the Model\n",
        "gd = LogisticRegressionGD(learning_rate=0.1, max_iters=1000)\n",
        "gd.fit(X,y)\n",
        "# Predictions\n",
        "predictions = gd.predict(X)\n",
        "print(\"Final Predictions:\", predictions)\n"
      ],
      "metadata": {
        "colab": {
          "base_uri": "https://localhost:8080/"
        },
        "id": "fMYPohV0DfMs",
        "outputId": "737e80a5-2689-4e6d-9cf2-bdcfb7757e10"
      },
      "execution_count": 25,
      "outputs": [
        {
          "output_type": "stream",
          "name": "stdout",
          "text": [
            "Final Predictions: [0. 0. 1. 1.]\n"
          ]
        }
      ]
    }
  ]
}